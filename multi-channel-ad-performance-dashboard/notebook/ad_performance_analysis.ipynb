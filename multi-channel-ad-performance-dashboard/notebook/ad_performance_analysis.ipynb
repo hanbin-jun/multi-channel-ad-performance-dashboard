{
  "cells": [
    {
      "cell_type": "markdown",
      "metadata": {
        "id": "view-in-github",
        "colab_type": "text"
      },
      "source": [
        "<a href=\"https://colab.research.google.com/github/hanbin-jun/multi-channel-ad-performance-dashboard/blob/main/multi-channel-ad-performance-dashboard/notebook/ad_performance_analysis.ipynb\" target=\"_parent\"><img src=\"https://colab.research.google.com/assets/colab-badge.svg\" alt=\"Open In Colab\"/></a>"
      ]
    },
    {
      "cell_type": "markdown",
      "id": "cc71db12",
      "metadata": {
        "id": "cc71db12"
      },
      "source": [
        "# Ad Performance Analysis\n",
        "\n",
        "This notebook processes and analyzes multi-channel ad performance data."
      ]
    },
    {
      "cell_type": "code",
      "execution_count": null,
      "id": "c3fcd041",
      "metadata": {
        "id": "c3fcd041"
      },
      "outputs": [],
      "source": [
        "# Import libraries\n",
        "import pandas as pd\n",
        "import matplotlib.pyplot as plt\n",
        "import seaborn as sns"
      ]
    },
    {
      "cell_type": "code",
      "execution_count": null,
      "id": "8f32520e",
      "metadata": {
        "id": "8f32520e"
      },
      "outputs": [],
      "source": [
        "# Load processed data\n",
        "df = pd.read_csv('../data/processed/combined_cleaned_data.csv')\n",
        "df.head()"
      ]
    },
    {
      "cell_type": "markdown",
      "id": "0d6c2d0f",
      "metadata": {
        "id": "0d6c2d0f"
      },
      "source": [
        "## Basic KPI Overview"
      ]
    },
    {
      "cell_type": "code",
      "execution_count": null,
      "id": "c8c643cb",
      "metadata": {
        "id": "c8c643cb"
      },
      "outputs": [],
      "source": [
        "# Calculate average KPIs\n",
        "kpi_summary = df[['CTR (%)', 'CPC', 'CVR (%)', 'CPA', 'ROAS']].mean().round(2)\n",
        "kpi_summary"
      ]
    },
    {
      "cell_type": "markdown",
      "id": "37f6728b",
      "metadata": {
        "id": "37f6728b"
      },
      "source": [
        "## ROAS Distribution by Channel"
      ]
    },
    {
      "cell_type": "code",
      "execution_count": null,
      "id": "4593b9d8",
      "metadata": {
        "id": "4593b9d8"
      },
      "outputs": [],
      "source": [
        "sns.boxplot(data=df, x='Channel', y='ROAS')\n",
        "plt.title('ROAS Distribution by Channel')\n",
        "plt.show()"
      ]
    },
    {
      "cell_type": "markdown",
      "id": "ea6386ef",
      "metadata": {
        "id": "ea6386ef"
      },
      "source": [
        "## Insights\n",
        "- Add your interpretations and insights here..."
      ]
    }
  ],
  "metadata": {
    "colab": {
      "provenance": [],
      "include_colab_link": true
    }
  },
  "nbformat": 4,
  "nbformat_minor": 5
}